{
 "cells": [
  {
   "cell_type": "code",
   "execution_count": 1,
   "metadata": {},
   "outputs": [],
   "source": [
    "import os\n",
    "import sys\n",
    "module_path = os.path.abspath(os.path.join('..'))\n",
    "if module_path not in sys.path:\n",
    "    sys.path.append(module_path)\n",
    "os.chdir('..')"
   ]
  },
  {
   "cell_type": "code",
   "execution_count": 13,
   "metadata": {},
   "outputs": [],
   "source": [
    "import pygad\n",
    "import torch\n",
    "import pickle\n",
    "import json\n",
    "import pandas as pd\n",
    "import numpy as np\n",
    "from modules.functions import data_generator_vec, check_cuda\n",
    "from sklearn.neighbors import KernelDensity\n"
   ]
  },
  {
   "cell_type": "code",
   "execution_count": 15,
   "metadata": {},
   "outputs": [],
   "source": [
    "model_path = 'saved_models'\n",
    "if os.path.exists(os.path.join(model_path, 'GAN_generator.pt')):\n",
    "    generator = torch.jit.load(os.path.join(model_path, 'GAN_generator.pt'), map_location='cpu')\n",
    "else:\n",
    "    print('train model first!')\n",
    "\n",
    "el_list_loc = 'misc/element_order_uts.pkl'\n",
    "with open(el_list_loc,'rb') as fid:\n",
    "    el_list = pickle.load(fid)\n",
    "\n",
    "with open('misc/scaler_y.pkl','rb') as fid:\n",
    "    uts_scaler = pickle.load(fid)\n",
    "\n",
    "with open('misc/starting_comp.json','r') as fid:\n",
    "    json_dict = json.load(fid)"
   ]
  },
  {
   "cell_type": "code",
   "execution_count": 7,
   "metadata": {},
   "outputs": [],
   "source": [
    "dataset = pd.read_csv('dataset/synthetic_dataset.csv', index_col = 0)\n",
    "to_train_df = dataset[dataset['uts1200C']>0].copy()\n",
    "comp_dset = data_generator_vec(to_train_df['Composition'], el_list=el_list)\n",
    "vec_comps = comp_dset.real_data\n",
    "y = to_train_df['uts1200C'].values.reshape(-1,1).astype('float32')\n",
    "y_scaled = uts_scaler.transform(y)\n",
    "kde = KernelDensity(kernel='gaussian',bandwidth=0.5)\n",
    "v = kde.fit(y_scaled)\n",
    "\n",
    "def prop_sampler(n_samples):\n",
    "    return kde.sample(n_samples).astype('float32')\n",
    "\n",
    "def noise_sampler(N, z_dim):\n",
    "    return np.random.normal(size=[N, z_dim]).astype('float32')\n",
    "\n",
    "latent_dim = 4\n",
    "cuda = check_cuda()"
   ]
  },
  {
   "cell_type": "code",
   "execution_count": null,
   "metadata": {},
   "outputs": [],
   "source": [
    "def ga_inputs(N, z_dim = latent_dim):\n",
    "    prop = torch.from_numpy(prop_sampler(N))\n",
    "    noise = torch.from_numpy(noise_sampler(N,z_dim))\n",
    "    return(torch.cat([noise,prop], dim=-1))\n",
    "\n",
    "functional_inputs = ga_inputs(1)\n",
    "desired_output = json_dict['start_comp']"
   ]
  },
  {
   "cell_type": "code",
   "execution_count": 79,
   "metadata": {},
   "outputs": [],
   "source": [
    "def fitness_func(solution, solution_idx):\n",
    "    functional_input = solution\n",
    "    output = generator(functional_inputs[:,:-1].reshape(-1,latent_dim),functional_inputs[:,-1].reshape(-1,1))\n",
    "    output = output.to('cpu').detach().numpy()\n",
    "    fitness = 1/np.linalg.norm(output - desired_output)\n",
    "    return fitness"
   ]
  },
  {
   "cell_type": "code",
   "execution_count": 107,
   "metadata": {},
   "outputs": [],
   "source": [
    "fitness_function = fitness_func\n",
    "\n",
    "num_generations = 100\n",
    "num_parents_mating = 2\n",
    "\n",
    "sol_per_pop = 20\n",
    "num_genes = len(functional_inputs)\n",
    "\n",
    "initial_population = ga_inputs(10)\n",
    "\n",
    "init_range_low = -2\n",
    "init_range_high = 5\n",
    "\n",
    "parent_selection_type = \"sss\"\n",
    "keep_parents = 1\n",
    "\n",
    "crossover_type = \"single_point\"\n",
    "\n",
    "mutation_type = \"adaptive\"\n",
    "mutation_probability = (0.25,0.1)\n",
    "mutation_percent_genes = (10,1)"
   ]
  },
  {
   "cell_type": "code",
   "execution_count": 108,
   "metadata": {},
   "outputs": [
    {
     "name": "stderr",
     "output_type": "stream",
     "text": [
      "/noether/s0/aqd5773/anaconda3/envs/candidate_generation/lib/python3.10/site-packages/pygad/pygad.py:526: UserWarning: The percentage of genes to mutate (1) resutled in selecting (0) genes. The number of genes to mutate is set to 1 (mutation_num_genes=1).\n",
      "If you do not want to mutate any gene, please set mutation_type=None.\n",
      "  if not self.suppress_warnings: warnings.warn(\"The percentage of genes to mutate ({mutation_percent}) resutled in selecting ({mutation_num}) genes. The number of genes to mutate is set to 1 (mutation_num_genes=1).\\nIf you do not want to mutate any gene, please set mutation_type=None.\".format(mutation_percent=mutation_percent_genes[idx], mutation_num=mutation_num_genes[idx]))\n"
     ]
    }
   ],
   "source": [
    "ga_instance = pygad.GA(num_generations=num_generations,\n",
    "                       num_parents_mating=num_parents_mating,\n",
    "                       fitness_func=fitness_function,\n",
    "                       sol_per_pop=sol_per_pop,\n",
    "                       num_genes=num_genes,\n",
    "                       init_range_low=init_range_low,\n",
    "                       init_range_high=init_range_high,\n",
    "                       parent_selection_type=parent_selection_type,\n",
    "                       keep_parents=keep_parents,\n",
    "                       crossover_type=crossover_type,\n",
    "                       mutation_type=mutation_type,\n",
    "                       mutation_percent_genes=mutation_percent_genes,\n",
    "                       mutation_probability=mutation_probability,\n",
    "                       initial_population=initial_population)\n",
    "ga_instance.run()"
   ]
  },
  {
   "cell_type": "code",
   "execution_count": 109,
   "metadata": {},
   "outputs": [],
   "source": [
    "solution, solution_fitness, solution_idx = ga_instance.best_solution()"
   ]
  },
  {
   "cell_type": "code",
   "execution_count": 110,
   "metadata": {},
   "outputs": [
    {
     "data": {
      "text/plain": [
       "tensor([[6.2857e-19, 3.4425e-18, 1.4116e-17, 1.5785e-01, 1.0405e-17, 4.5400e-18,\n",
       "         1.3517e-01, 1.3711e-18, 5.3952e-02, 1.0567e-01, 1.9060e-18, 2.8429e-17,\n",
       "         2.0204e-18, 2.3981e-02, 9.2355e-02, 1.8019e-02, 1.0077e-01, 3.1223e-01]],\n",
       "       grad_fn=<DifferentiableGraphBackward>)"
      ]
     },
     "execution_count": 110,
     "metadata": {},
     "output_type": "execute_result"
    }
   ],
   "source": [
    "out = generator(torch.from_numpy(solution[:-1].reshape(-1,latent_dim).astype('float32')),torch.from_numpy(solution[-1].reshape(-1,1).astype('float32')))\n",
    "out"
   ]
  },
  {
   "cell_type": "code",
   "execution_count": 67,
   "metadata": {},
   "outputs": [
    {
     "data": {
      "text/plain": [
       "array([0.        , 0.        , 0.        , 0.19628505, 0.        ,\n",
       "       0.        , 0.17855167, 0.        , 0.0589374 , 0.06548531,\n",
       "       0.        , 0.        , 0.        , 0.        , 0.07380948,\n",
       "       0.        , 0.07025729, 0.35667381])"
      ]
     },
     "execution_count": 67,
     "metadata": {},
     "output_type": "execute_result"
    }
   ],
   "source": [
    "np.array(json_dict['start_comp'])"
   ]
  }
 ],
 "metadata": {
  "kernelspec": {
   "display_name": "Python 3.10.4 ('candidate_generation': conda)",
   "language": "python",
   "name": "python3"
  },
  "language_info": {
   "codemirror_mode": {
    "name": "ipython",
    "version": 3
   },
   "file_extension": ".py",
   "mimetype": "text/x-python",
   "name": "python",
   "nbconvert_exporter": "python",
   "pygments_lexer": "ipython3",
   "version": "3.10.4"
  },
  "orig_nbformat": 4,
  "vscode": {
   "interpreter": {
    "hash": "1ed46dbf2dc3b84a6540364823b95a5ac7e2b31867fc38c2b8073c2d844b2bb6"
   }
  }
 },
 "nbformat": 4,
 "nbformat_minor": 2
}
