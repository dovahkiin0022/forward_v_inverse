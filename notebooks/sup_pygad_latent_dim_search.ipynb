{
 "cells": [
  {
   "cell_type": "code",
   "execution_count": 1,
   "metadata": {},
   "outputs": [],
   "source": [
    "import os\n",
    "import sys\n",
    "module_path = os.path.abspath(os.path.join('..'))\n",
    "if module_path not in sys.path:\n",
    "    sys.path.append(module_path)\n",
    "os.chdir('..')"
   ]
  },
  {
   "cell_type": "code",
   "execution_count": 2,
   "metadata": {},
   "outputs": [],
   "source": [
    "import pygad\n",
    "import torch\n",
    "import pickle\n",
    "import json\n",
    "import pandas as pd\n",
    "import numpy as np\n",
    "from modules.functions import data_generator_vec, check_cuda\n",
    "from sklearn.neighbors import KernelDensity\n",
    "import matplotlib.pyplot as plt\n"
   ]
  },
  {
   "cell_type": "code",
   "execution_count": 3,
   "metadata": {},
   "outputs": [],
   "source": [
    "model_path = 'saved_models'\n",
    "if os.path.exists(os.path.join(model_path, 'GAN_generator.pt')):\n",
    "    generator = torch.jit.load(os.path.join(model_path, 'GAN_generator.pt'), map_location='cpu')\n",
    "else:\n",
    "    print('train model first!')\n",
    "\n",
    "el_list_loc = 'misc/element_order_uts.pkl'\n",
    "with open(el_list_loc,'rb') as fid:\n",
    "    el_list = pickle.load(fid)\n",
    "\n",
    "with open('misc/scaler_y.pkl','rb') as fid:\n",
    "    uts_scaler = pickle.load(fid)\n",
    "\n",
    "with open('misc/starting_comp.json','r') as fid:\n",
    "    json_dict = json.load(fid)"
   ]
  },
  {
   "cell_type": "code",
   "execution_count": 4,
   "metadata": {},
   "outputs": [],
   "source": [
    "dataset = pd.read_csv('dataset/synthetic_dataset.csv', index_col = 0)\n",
    "to_train_df = dataset[dataset['uts1200C']>0].copy()\n",
    "comp_dset = data_generator_vec(to_train_df['Composition'], el_list=el_list)\n",
    "vec_comps = comp_dset.real_data\n",
    "y = to_train_df['uts1200C'].values.reshape(-1,1).astype('float32')\n",
    "y_scaled = uts_scaler.transform(y)\n",
    "kde = KernelDensity(kernel='gaussian',bandwidth=0.5)\n",
    "v = kde.fit(y_scaled)\n",
    "\n",
    "def prop_sampler(n_samples):\n",
    "    return kde.sample(n_samples).astype('float32')\n",
    "\n",
    "def noise_sampler(N, z_dim):\n",
    "    return np.random.normal(size=[N, z_dim]).astype('float32')\n",
    "\n",
    "latent_dim = 4"
   ]
  },
  {
   "cell_type": "code",
   "execution_count": 40,
   "metadata": {},
   "outputs": [],
   "source": [
    "desired_uts = np.array(json_dict['start_uts']).reshape(-1,1).astype('float32')\n",
    "scaled_desired_uts = uts_scaler.transform(desired_uts)\n",
    "def ga_inputs(N, z_dim = latent_dim):\n",
    "    #prop = torch.from_numpy(scaled_desired_uts)*torch.ones((N,1))\n",
    "    noise = torch.from_numpy(noise_sampler(N,z_dim))\n",
    "    return noise\n",
    "\n",
    "desired_output = np.array(json_dict['start_comp'])"
   ]
  },
  {
   "cell_type": "code",
   "execution_count": 60,
   "metadata": {},
   "outputs": [],
   "source": [
    "from sklearn.metrics import mean_absolute_error, mean_squared_error\n",
    "def fitness_func(solution, solution_idx):\n",
    "    solution = torch.from_numpy(solution.reshape(-1,latent_dim).astype('float32'))\n",
    "    prop_input = torch.from_numpy(scaled_desired_uts*np.ones((solution.shape[0],1)).astype('float32'))\n",
    "    with torch.no_grad():\n",
    "        output = generator(solution,prop_input)\n",
    "    #idx = np.argwhere(np.array(json_dict['start_comp'])==0)\n",
    "    #output[:,idx] = 0\n",
    "    #weights = np.abs(output - desired_output)\n",
    "    distance = mean_absolute_error(output.flatten(),desired_output.flatten())\n",
    "    fitness = 1/distance #- (1-np.sum(output))\n",
    "    return fitness"
   ]
  },
  {
   "cell_type": "code",
   "execution_count": 61,
   "metadata": {},
   "outputs": [],
   "source": [
    "fitness_function = fitness_func\n",
    "\n",
    "num_generations = 5000\n",
    "num_parents_mating = 2\n",
    "\n",
    "sol_per_pop = 20\n",
    "num_genes = latent_dim\n",
    "\n",
    "initial_population = ga_inputs(1000)\n",
    "\n",
    "init_range_low = -2\n",
    "init_range_high = 5\n",
    "\n",
    "parent_selection_type = \"sss\"\n",
    "keep_parents = 1\n",
    "\n",
    "crossover_type = \"single_point\"\n",
    "\n",
    "mutation_type = \"adaptive\"\n",
    "mutation_probability = (0.3,0.05)\n",
    "mutation_percent_genes = (20,5)"
   ]
  },
  {
   "cell_type": "code",
   "execution_count": 62,
   "metadata": {},
   "outputs": [
    {
     "name": "stderr",
     "output_type": "stream",
     "text": [
      "/noether/s0/aqd5773/anaconda3/envs/candidate_generation/lib/python3.10/site-packages/pygad/pygad.py:526: UserWarning: The percentage of genes to mutate (20) resutled in selecting (0) genes. The number of genes to mutate is set to 1 (mutation_num_genes=1).\n",
      "If you do not want to mutate any gene, please set mutation_type=None.\n",
      "  if not self.suppress_warnings: warnings.warn(\"The percentage of genes to mutate ({mutation_percent}) resutled in selecting ({mutation_num}) genes. The number of genes to mutate is set to 1 (mutation_num_genes=1).\\nIf you do not want to mutate any gene, please set mutation_type=None.\".format(mutation_percent=mutation_percent_genes[idx], mutation_num=mutation_num_genes[idx]))\n",
      "/noether/s0/aqd5773/anaconda3/envs/candidate_generation/lib/python3.10/site-packages/pygad/pygad.py:526: UserWarning: The percentage of genes to mutate (5) resutled in selecting (0) genes. The number of genes to mutate is set to 1 (mutation_num_genes=1).\n",
      "If you do not want to mutate any gene, please set mutation_type=None.\n",
      "  if not self.suppress_warnings: warnings.warn(\"The percentage of genes to mutate ({mutation_percent}) resutled in selecting ({mutation_num}) genes. The number of genes to mutate is set to 1 (mutation_num_genes=1).\\nIf you do not want to mutate any gene, please set mutation_type=None.\".format(mutation_percent=mutation_percent_genes[idx], mutation_num=mutation_num_genes[idx]))\n"
     ]
    },
    {
     "ename": "KeyboardInterrupt",
     "evalue": "",
     "output_type": "error",
     "traceback": [
      "\u001b[0;31m---------------------------------------------------------------------------\u001b[0m",
      "\u001b[0;31mKeyboardInterrupt\u001b[0m                         Traceback (most recent call last)",
      "\u001b[1;32m/noether/s0/aqd5773/forward_v_inverse/notebooks/sup_pygad_latent_dim_search.ipynb Cell 8\u001b[0m in \u001b[0;36m<cell line: 15>\u001b[0;34m()\u001b[0m\n\u001b[1;32m      <a href='vscode-notebook-cell://ssh-remote%2Bnoether.matse.psu.edu/noether/s0/aqd5773/forward_v_inverse/notebooks/sup_pygad_latent_dim_search.ipynb#X10sdnNjb2RlLXJlbW90ZQ%3D%3D?line=0'>1</a>\u001b[0m ga_instance \u001b[39m=\u001b[39m pygad\u001b[39m.\u001b[39mGA(num_generations\u001b[39m=\u001b[39mnum_generations,\n\u001b[1;32m      <a href='vscode-notebook-cell://ssh-remote%2Bnoether.matse.psu.edu/noether/s0/aqd5773/forward_v_inverse/notebooks/sup_pygad_latent_dim_search.ipynb#X10sdnNjb2RlLXJlbW90ZQ%3D%3D?line=1'>2</a>\u001b[0m                        num_parents_mating\u001b[39m=\u001b[39mnum_parents_mating,\n\u001b[1;32m      <a href='vscode-notebook-cell://ssh-remote%2Bnoether.matse.psu.edu/noether/s0/aqd5773/forward_v_inverse/notebooks/sup_pygad_latent_dim_search.ipynb#X10sdnNjb2RlLXJlbW90ZQ%3D%3D?line=2'>3</a>\u001b[0m                        fitness_func\u001b[39m=\u001b[39mfitness_function,\n\u001b[0;32m   (...)\u001b[0m\n\u001b[1;32m     <a href='vscode-notebook-cell://ssh-remote%2Bnoether.matse.psu.edu/noether/s0/aqd5773/forward_v_inverse/notebooks/sup_pygad_latent_dim_search.ipynb#X10sdnNjb2RlLXJlbW90ZQ%3D%3D?line=12'>13</a>\u001b[0m                        mutation_probability\u001b[39m=\u001b[39mmutation_probability,\n\u001b[1;32m     <a href='vscode-notebook-cell://ssh-remote%2Bnoether.matse.psu.edu/noether/s0/aqd5773/forward_v_inverse/notebooks/sup_pygad_latent_dim_search.ipynb#X10sdnNjb2RlLXJlbW90ZQ%3D%3D?line=13'>14</a>\u001b[0m                        initial_population\u001b[39m=\u001b[39minitial_population)\n\u001b[0;32m---> <a href='vscode-notebook-cell://ssh-remote%2Bnoether.matse.psu.edu/noether/s0/aqd5773/forward_v_inverse/notebooks/sup_pygad_latent_dim_search.ipynb#X10sdnNjb2RlLXJlbW90ZQ%3D%3D?line=14'>15</a>\u001b[0m ga_instance\u001b[39m.\u001b[39;49mrun()\n",
      "File \u001b[0;32m/noether/s0/aqd5773/anaconda3/envs/candidate_generation/lib/python3.10/site-packages/pygad/pygad.py:1383\u001b[0m, in \u001b[0;36mGA.run\u001b[0;34m(self)\u001b[0m\n\u001b[1;32m   1381\u001b[0m     \u001b[39mself\u001b[39m\u001b[39m.\u001b[39mlast_generation_offspring_mutation \u001b[39m=\u001b[39m \u001b[39mself\u001b[39m\u001b[39m.\u001b[39mmutation(\u001b[39mself\u001b[39m\u001b[39m.\u001b[39mlast_generation_offspring_crossover, \u001b[39mself\u001b[39m)\n\u001b[1;32m   1382\u001b[0m \u001b[39melse\u001b[39;00m:\n\u001b[0;32m-> 1383\u001b[0m     \u001b[39mself\u001b[39m\u001b[39m.\u001b[39mlast_generation_offspring_mutation \u001b[39m=\u001b[39m \u001b[39mself\u001b[39;49m\u001b[39m.\u001b[39;49mmutation(\u001b[39mself\u001b[39;49m\u001b[39m.\u001b[39;49mlast_generation_offspring_crossover)\n\u001b[1;32m   1384\u001b[0m \u001b[39mif\u001b[39;00m \u001b[39mnot\u001b[39;00m (\u001b[39mself\u001b[39m\u001b[39m.\u001b[39mon_mutation \u001b[39mis\u001b[39;00m \u001b[39mNone\u001b[39;00m):\n\u001b[1;32m   1385\u001b[0m     \u001b[39mself\u001b[39m\u001b[39m.\u001b[39mon_mutation(\u001b[39mself\u001b[39m, \u001b[39mself\u001b[39m\u001b[39m.\u001b[39mlast_generation_offspring_mutation)\n",
      "File \u001b[0;32m/noether/s0/aqd5773/anaconda3/envs/candidate_generation/lib/python3.10/site-packages/pygad/pygad.py:2347\u001b[0m, in \u001b[0;36mGA.adaptive_mutation\u001b[0;34m(self, offspring)\u001b[0m\n\u001b[1;32m   2344\u001b[0m         offspring \u001b[39m=\u001b[39m \u001b[39mself\u001b[39m\u001b[39m.\u001b[39madaptive_mutation_probs_by_space(offspring)\n\u001b[1;32m   2345\u001b[0m     \u001b[39melse\u001b[39;00m:\n\u001b[1;32m   2346\u001b[0m         \u001b[39m# When the attribute 'gene_space' does not exist (i.e. None), the mutation values are selected randomly based on the continuous range specified by the 2 attributes 'random_mutation_min_val' and 'random_mutation_max_val'.\u001b[39;00m\n\u001b[0;32m-> 2347\u001b[0m         offspring \u001b[39m=\u001b[39m \u001b[39mself\u001b[39;49m\u001b[39m.\u001b[39;49madaptive_mutation_probs_randomly(offspring)\n\u001b[1;32m   2349\u001b[0m \u001b[39mreturn\u001b[39;00m offspring\n",
      "File \u001b[0;32m/noether/s0/aqd5773/anaconda3/envs/candidate_generation/lib/python3.10/site-packages/pygad/pygad.py:2647\u001b[0m, in \u001b[0;36mGA.adaptive_mutation_probs_randomly\u001b[0;34m(self, offspring)\u001b[0m\n\u001b[1;32m   2636\u001b[0m \u001b[39mdef\u001b[39;00m \u001b[39madaptive_mutation_probs_randomly\u001b[39m(\u001b[39mself\u001b[39m, offspring):\n\u001b[1;32m   2638\u001b[0m     \u001b[39m\"\"\"\u001b[39;00m\n\u001b[1;32m   2639\u001b[0m \u001b[39m    Applies the adaptive mutation based on the 'mutation_probability' parameter. \u001b[39;00m\n\u001b[1;32m   2640\u001b[0m \u001b[39m    Based on whether the solution fitness is above or below a threshold, the mutation is applied diffrently by mutating high or low number of genes.\u001b[39;00m\n\u001b[0;32m   (...)\u001b[0m\n\u001b[1;32m   2644\u001b[0m \u001b[39m    It returns an array of the mutated offspring.\u001b[39;00m\n\u001b[1;32m   2645\u001b[0m \u001b[39m    \"\"\"\u001b[39;00m\n\u001b[0;32m-> 2647\u001b[0m     average_fitness, offspring_fitness \u001b[39m=\u001b[39m \u001b[39mself\u001b[39;49m\u001b[39m.\u001b[39;49madaptive_mutation_population_fitness(offspring)\n\u001b[1;32m   2649\u001b[0m     \u001b[39m# Adaptive random mutation changes one or more genes in each offspring randomly.\u001b[39;00m\n\u001b[1;32m   2650\u001b[0m     \u001b[39m# The probability of mutating a gene depends on the solution's fitness value.\u001b[39;00m\n\u001b[1;32m   2651\u001b[0m     \u001b[39mfor\u001b[39;00m offspring_idx \u001b[39min\u001b[39;00m \u001b[39mrange\u001b[39m(offspring\u001b[39m.\u001b[39mshape[\u001b[39m0\u001b[39m]):\n",
      "File \u001b[0;32m/noether/s0/aqd5773/anaconda3/envs/candidate_generation/lib/python3.10/site-packages/pygad/pygad.py:2314\u001b[0m, in \u001b[0;36mGA.adaptive_mutation_population_fitness\u001b[0;34m(self, offspring)\u001b[0m\n\u001b[1;32m   2311\u001b[0m fitness[:\u001b[39mself\u001b[39m\u001b[39m.\u001b[39mlast_generation_parents\u001b[39m.\u001b[39mshape[\u001b[39m0\u001b[39m]] \u001b[39m=\u001b[39m \u001b[39mself\u001b[39m\u001b[39m.\u001b[39mlast_generation_fitness[\u001b[39mself\u001b[39m\u001b[39m.\u001b[39mlast_generation_parents_indices]\n\u001b[1;32m   2313\u001b[0m \u001b[39mfor\u001b[39;00m idx \u001b[39min\u001b[39;00m \u001b[39mrange\u001b[39m(\u001b[39mlen\u001b[39m(parents_to_keep), fitness\u001b[39m.\u001b[39mshape[\u001b[39m0\u001b[39m]):\n\u001b[0;32m-> 2314\u001b[0m     fitness[idx] \u001b[39m=\u001b[39m \u001b[39mself\u001b[39;49m\u001b[39m.\u001b[39;49mfitness_func(temp_population[idx], \u001b[39mNone\u001b[39;49;00m)\n\u001b[1;32m   2315\u001b[0m average_fitness \u001b[39m=\u001b[39m numpy\u001b[39m.\u001b[39mmean(fitness)\n\u001b[1;32m   2317\u001b[0m \u001b[39mreturn\u001b[39;00m average_fitness, fitness[\u001b[39mlen\u001b[39m(parents_to_keep):]\n",
      "\u001b[1;32m/noether/s0/aqd5773/forward_v_inverse/notebooks/sup_pygad_latent_dim_search.ipynb Cell 8\u001b[0m in \u001b[0;36mfitness_func\u001b[0;34m(solution, solution_idx)\u001b[0m\n\u001b[1;32m      <a href='vscode-notebook-cell://ssh-remote%2Bnoether.matse.psu.edu/noether/s0/aqd5773/forward_v_inverse/notebooks/sup_pygad_latent_dim_search.ipynb#X10sdnNjb2RlLXJlbW90ZQ%3D%3D?line=5'>6</a>\u001b[0m     output \u001b[39m=\u001b[39m generator(solution,prop_input)\n\u001b[1;32m      <a href='vscode-notebook-cell://ssh-remote%2Bnoether.matse.psu.edu/noether/s0/aqd5773/forward_v_inverse/notebooks/sup_pygad_latent_dim_search.ipynb#X10sdnNjb2RlLXJlbW90ZQ%3D%3D?line=6'>7</a>\u001b[0m \u001b[39m#idx = np.argwhere(np.array(json_dict['start_comp'])==0)\u001b[39;00m\n\u001b[1;32m      <a href='vscode-notebook-cell://ssh-remote%2Bnoether.matse.psu.edu/noether/s0/aqd5773/forward_v_inverse/notebooks/sup_pygad_latent_dim_search.ipynb#X10sdnNjb2RlLXJlbW90ZQ%3D%3D?line=7'>8</a>\u001b[0m \u001b[39m#output[:,idx] = 0\u001b[39;00m\n\u001b[1;32m      <a href='vscode-notebook-cell://ssh-remote%2Bnoether.matse.psu.edu/noether/s0/aqd5773/forward_v_inverse/notebooks/sup_pygad_latent_dim_search.ipynb#X10sdnNjb2RlLXJlbW90ZQ%3D%3D?line=8'>9</a>\u001b[0m \u001b[39m#weights = np.abs(output - desired_output)\u001b[39;00m\n\u001b[0;32m---> <a href='vscode-notebook-cell://ssh-remote%2Bnoether.matse.psu.edu/noether/s0/aqd5773/forward_v_inverse/notebooks/sup_pygad_latent_dim_search.ipynb#X10sdnNjb2RlLXJlbW90ZQ%3D%3D?line=9'>10</a>\u001b[0m distance \u001b[39m=\u001b[39m mean_absolute_error(output\u001b[39m.\u001b[39;49mflatten(),desired_output\u001b[39m.\u001b[39;49mflatten())\n\u001b[1;32m     <a href='vscode-notebook-cell://ssh-remote%2Bnoether.matse.psu.edu/noether/s0/aqd5773/forward_v_inverse/notebooks/sup_pygad_latent_dim_search.ipynb#X10sdnNjb2RlLXJlbW90ZQ%3D%3D?line=10'>11</a>\u001b[0m fitness \u001b[39m=\u001b[39m \u001b[39m1\u001b[39m\u001b[39m/\u001b[39mdistance \u001b[39m#- (1-np.sum(output))\u001b[39;00m\n\u001b[1;32m     <a href='vscode-notebook-cell://ssh-remote%2Bnoether.matse.psu.edu/noether/s0/aqd5773/forward_v_inverse/notebooks/sup_pygad_latent_dim_search.ipynb#X10sdnNjb2RlLXJlbW90ZQ%3D%3D?line=11'>12</a>\u001b[0m \u001b[39mreturn\u001b[39;00m fitness\n",
      "File \u001b[0;32m/noether/s0/aqd5773/anaconda3/envs/candidate_generation/lib/python3.10/site-packages/sklearn/metrics/_regression.py:196\u001b[0m, in \u001b[0;36mmean_absolute_error\u001b[0;34m(y_true, y_pred, sample_weight, multioutput)\u001b[0m\n\u001b[1;32m    141\u001b[0m \u001b[39mdef\u001b[39;00m \u001b[39mmean_absolute_error\u001b[39m(\n\u001b[1;32m    142\u001b[0m     y_true, y_pred, \u001b[39m*\u001b[39m, sample_weight\u001b[39m=\u001b[39m\u001b[39mNone\u001b[39;00m, multioutput\u001b[39m=\u001b[39m\u001b[39m\"\u001b[39m\u001b[39muniform_average\u001b[39m\u001b[39m\"\u001b[39m\n\u001b[1;32m    143\u001b[0m ):\n\u001b[1;32m    144\u001b[0m     \u001b[39m\"\"\"Mean absolute error regression loss.\u001b[39;00m\n\u001b[1;32m    145\u001b[0m \n\u001b[1;32m    146\u001b[0m \u001b[39m    Read more in the :ref:`User Guide <mean_absolute_error>`.\u001b[39;00m\n\u001b[0;32m   (...)\u001b[0m\n\u001b[1;32m    194\u001b[0m \u001b[39m    0.85...\u001b[39;00m\n\u001b[1;32m    195\u001b[0m \u001b[39m    \"\"\"\u001b[39;00m\n\u001b[0;32m--> 196\u001b[0m     y_type, y_true, y_pred, multioutput \u001b[39m=\u001b[39m _check_reg_targets(\n\u001b[1;32m    197\u001b[0m         y_true, y_pred, multioutput\n\u001b[1;32m    198\u001b[0m     )\n\u001b[1;32m    199\u001b[0m     check_consistent_length(y_true, y_pred, sample_weight)\n\u001b[1;32m    200\u001b[0m     output_errors \u001b[39m=\u001b[39m np\u001b[39m.\u001b[39maverage(np\u001b[39m.\u001b[39mabs(y_pred \u001b[39m-\u001b[39m y_true), weights\u001b[39m=\u001b[39msample_weight, axis\u001b[39m=\u001b[39m\u001b[39m0\u001b[39m)\n",
      "File \u001b[0;32m/noether/s0/aqd5773/anaconda3/envs/candidate_generation/lib/python3.10/site-packages/sklearn/metrics/_regression.py:100\u001b[0m, in \u001b[0;36m_check_reg_targets\u001b[0;34m(y_true, y_pred, multioutput, dtype)\u001b[0m\n\u001b[1;32m     66\u001b[0m \u001b[39mdef\u001b[39;00m \u001b[39m_check_reg_targets\u001b[39m(y_true, y_pred, multioutput, dtype\u001b[39m=\u001b[39m\u001b[39m\"\u001b[39m\u001b[39mnumeric\u001b[39m\u001b[39m\"\u001b[39m):\n\u001b[1;32m     67\u001b[0m     \u001b[39m\"\"\"Check that y_true and y_pred belong to the same regression task.\u001b[39;00m\n\u001b[1;32m     68\u001b[0m \n\u001b[1;32m     69\u001b[0m \u001b[39m    Parameters\u001b[39;00m\n\u001b[0;32m   (...)\u001b[0m\n\u001b[1;32m     98\u001b[0m \u001b[39m        correct keyword.\u001b[39;00m\n\u001b[1;32m     99\u001b[0m \u001b[39m    \"\"\"\u001b[39;00m\n\u001b[0;32m--> 100\u001b[0m     check_consistent_length(y_true, y_pred)\n\u001b[1;32m    101\u001b[0m     y_true \u001b[39m=\u001b[39m check_array(y_true, ensure_2d\u001b[39m=\u001b[39m\u001b[39mFalse\u001b[39;00m, dtype\u001b[39m=\u001b[39mdtype)\n\u001b[1;32m    102\u001b[0m     y_pred \u001b[39m=\u001b[39m check_array(y_pred, ensure_2d\u001b[39m=\u001b[39m\u001b[39mFalse\u001b[39;00m, dtype\u001b[39m=\u001b[39mdtype)\n",
      "File \u001b[0;32m/noether/s0/aqd5773/anaconda3/envs/candidate_generation/lib/python3.10/site-packages/sklearn/utils/validation.py:385\u001b[0m, in \u001b[0;36mcheck_consistent_length\u001b[0;34m(*arrays)\u001b[0m\n\u001b[1;32m    374\u001b[0m \u001b[39m\"\"\"Check that all arrays have consistent first dimensions.\u001b[39;00m\n\u001b[1;32m    375\u001b[0m \n\u001b[1;32m    376\u001b[0m \u001b[39mChecks whether all objects in arrays have the same shape or length.\u001b[39;00m\n\u001b[0;32m   (...)\u001b[0m\n\u001b[1;32m    381\u001b[0m \u001b[39m    Objects that will be checked for consistent length.\u001b[39;00m\n\u001b[1;32m    382\u001b[0m \u001b[39m\"\"\"\u001b[39;00m\n\u001b[1;32m    384\u001b[0m lengths \u001b[39m=\u001b[39m [_num_samples(X) \u001b[39mfor\u001b[39;00m X \u001b[39min\u001b[39;00m arrays \u001b[39mif\u001b[39;00m X \u001b[39mis\u001b[39;00m \u001b[39mnot\u001b[39;00m \u001b[39mNone\u001b[39;00m]\n\u001b[0;32m--> 385\u001b[0m uniques \u001b[39m=\u001b[39m np\u001b[39m.\u001b[39;49munique(lengths)\n\u001b[1;32m    386\u001b[0m \u001b[39mif\u001b[39;00m \u001b[39mlen\u001b[39m(uniques) \u001b[39m>\u001b[39m \u001b[39m1\u001b[39m:\n\u001b[1;32m    387\u001b[0m     \u001b[39mraise\u001b[39;00m \u001b[39mValueError\u001b[39;00m(\n\u001b[1;32m    388\u001b[0m         \u001b[39m\"\u001b[39m\u001b[39mFound input variables with inconsistent numbers of samples: \u001b[39m\u001b[39m%r\u001b[39;00m\u001b[39m\"\u001b[39m\n\u001b[1;32m    389\u001b[0m         \u001b[39m%\u001b[39m [\u001b[39mint\u001b[39m(l) \u001b[39mfor\u001b[39;00m l \u001b[39min\u001b[39;00m lengths]\n\u001b[1;32m    390\u001b[0m     )\n",
      "File \u001b[0;32m<__array_function__ internals>:180\u001b[0m, in \u001b[0;36munique\u001b[0;34m(*args, **kwargs)\u001b[0m\n",
      "File \u001b[0;32m/noether/s0/aqd5773/anaconda3/envs/candidate_generation/lib/python3.10/site-packages/numpy/lib/arraysetops.py:272\u001b[0m, in \u001b[0;36munique\u001b[0;34m(ar, return_index, return_inverse, return_counts, axis)\u001b[0m\n\u001b[1;32m    270\u001b[0m ar \u001b[39m=\u001b[39m np\u001b[39m.\u001b[39masanyarray(ar)\n\u001b[1;32m    271\u001b[0m \u001b[39mif\u001b[39;00m axis \u001b[39mis\u001b[39;00m \u001b[39mNone\u001b[39;00m:\n\u001b[0;32m--> 272\u001b[0m     ret \u001b[39m=\u001b[39m _unique1d(ar, return_index, return_inverse, return_counts)\n\u001b[1;32m    273\u001b[0m     \u001b[39mreturn\u001b[39;00m _unpack_tuple(ret)\n\u001b[1;32m    275\u001b[0m \u001b[39m# axis was specified and not None\u001b[39;00m\n",
      "File \u001b[0;32m/noether/s0/aqd5773/anaconda3/envs/candidate_generation/lib/python3.10/site-packages/numpy/lib/arraysetops.py:351\u001b[0m, in \u001b[0;36m_unique1d\u001b[0;34m(ar, return_index, return_inverse, return_counts)\u001b[0m\n\u001b[1;32m    348\u001b[0m     mask[\u001b[39m1\u001b[39m:] \u001b[39m=\u001b[39m aux[\u001b[39m1\u001b[39m:] \u001b[39m!=\u001b[39m aux[:\u001b[39m-\u001b[39m\u001b[39m1\u001b[39m]\n\u001b[1;32m    350\u001b[0m ret \u001b[39m=\u001b[39m (aux[mask],)\n\u001b[0;32m--> 351\u001b[0m \u001b[39mif\u001b[39;00m return_index:\n\u001b[1;32m    352\u001b[0m     ret \u001b[39m+\u001b[39m\u001b[39m=\u001b[39m (perm[mask],)\n\u001b[1;32m    353\u001b[0m \u001b[39mif\u001b[39;00m return_inverse:\n",
      "\u001b[0;31mKeyboardInterrupt\u001b[0m: "
     ]
    }
   ],
   "source": [
    "ga_instance = pygad.GA(num_generations=num_generations,\n",
    "                       num_parents_mating=num_parents_mating,\n",
    "                       fitness_func=fitness_function,\n",
    "                       sol_per_pop=sol_per_pop,\n",
    "                       num_genes=num_genes,\n",
    "                       init_range_low=init_range_low,\n",
    "                       init_range_high=init_range_high,\n",
    "                       parent_selection_type=parent_selection_type,\n",
    "                       keep_parents=keep_parents,\n",
    "                       crossover_type=crossover_type,\n",
    "                       mutation_type=mutation_type,\n",
    "                       mutation_percent_genes=mutation_percent_genes,\n",
    "                       mutation_probability=mutation_probability,\n",
    "                       initial_population=initial_population)\n",
    "ga_instance.run()"
   ]
  },
  {
   "cell_type": "code",
   "execution_count": 63,
   "metadata": {},
   "outputs": [],
   "source": [
    "solution, solution_fitness, solution_idx = ga_instance.best_solution()"
   ]
  },
  {
   "cell_type": "code",
   "execution_count": 67,
   "metadata": {},
   "outputs": [
    {
     "data": {
      "text/plain": [
       "<matplotlib.image.AxesImage at 0x7f916e423340>"
      ]
     },
     "execution_count": 67,
     "metadata": {},
     "output_type": "execute_result"
    },
    {
     "data": {
      "image/png": "[encoded data removed]",
      "text/plain": [
       "<Figure size 432x288 with 1 Axes>"
      ]
     },
     "metadata": {
      "needs_background": "light"
     },
     "output_type": "display_data"
    }
   ],
   "source": [
    "solution = torch.from_numpy(solution.reshape(-1,latent_dim).astype('float32'))\n",
    "prop_input = torch.from_numpy(scaled_desired_uts*np.ones((solution.shape[0],1)).astype('float32'))\n",
    "out = generator(solution,prop_input)\n",
    "plt.imshow(out.to('cpu').detach().numpy())"
   ]
  },
  {
   "cell_type": "code",
   "execution_count": 70,
   "metadata": {},
   "outputs": [
    {
     "data": {
      "text/plain": [
       "tensor([[4.1644e-19, 3.3617e-18, 1.0000e-17, 2.0119e-01, 9.4133e-18, 4.3071e-18,\n",
       "         1.7541e-01, 9.2592e-19, 5.9437e-02, 6.2341e-02, 1.1707e-18, 1.3338e-17,\n",
       "         1.7341e-18, 1.0332e-02, 6.8753e-02, 2.1529e-02, 7.0012e-02, 3.3100e-01]],\n",
       "       grad_fn=<DifferentiableGraphBackward>)"
      ]
     },
     "execution_count": 70,
     "metadata": {},
     "output_type": "execute_result"
    }
   ],
   "source": [
    "out"
   ]
  },
  {
   "cell_type": "code",
   "execution_count": 68,
   "metadata": {},
   "outputs": [
    {
     "data": {
      "text/plain": [
       "<matplotlib.image.AxesImage at 0x7f916e4aa8c0>"
      ]
     },
     "execution_count": 68,
     "metadata": {},
     "output_type": "execute_result"
    },
    {
     "data": {
      "image/png": "[encoded data removed]",
      "text/plain": [
       "<Figure size 432x288 with 1 Axes>"
      ]
     },
     "metadata": {
      "needs_background": "light"
     },
     "output_type": "display_data"
    }
   ],
   "source": [
    "plt.imshow(np.array(json_dict['start_comp']).reshape(1,-1))"
   ]
  }
 ],
 "metadata": {
  "kernelspec": {
   "display_name": "Python 3.10.4 ('candidate_generation': conda)",
   "language": "python",
   "name": "python3"
  },
  "language_info": {
   "codemirror_mode": {
    "name": "ipython",
    "version": 3
   },
   "file_extension": ".py",
   "mimetype": "text/x-python",
   "name": "python",
   "nbconvert_exporter": "python",
   "pygments_lexer": "ipython3",
   "version": "3.10.4"
  },
  "orig_nbformat": 4,
  "vscode": {
   "interpreter": {
    "hash": "1ed46dbf2dc3b84a6540364823b95a5ac7e2b31867fc38c2b8073c2d844b2bb6"
   }
  }
 },
 "nbformat": 4,
 "nbformat_minor": 2
}
