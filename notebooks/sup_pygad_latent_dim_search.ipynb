{
 "cells": [
  {
   "cell_type": "code",
   "execution_count": 1,
   "metadata": {
    "pycharm": {
     "name": "#%%\n"
    }
   },
   "outputs": [],
   "source": [
    "import os\n",
    "import sys\n",
    "module_path = os.path.abspath(os.path.join('..'))\n",
    "if module_path not in sys.path:\n",
    "    sys.path.append(module_path)\n",
    "os.chdir('..')"
   ]
  },
  {
   "cell_type": "code",
   "execution_count": null,
   "outputs": [],
   "source": [
    "import pygad\n",
    "import torch\n",
    "import pickle\n",
    "import json\n",
    "import pandas as pd\n",
    "import numpy as np\n",
    "from modules.functions import data_generator_vec, check_cuda\n",
    "from sklearn.neighbors import KernelDensity\n",
    "import matplotlib.pyplot as plt\n"
   ],
   "metadata": {
    "collapsed": false,
    "pycharm": {
     "name": "#%%\n"
    }
   }
  },
  {
   "cell_type": "code",
   "execution_count": null,
   "outputs": [],
   "source": [
    "model_path = 'saved_models'\n",
    "if os.path.exists(os.path.join(model_path, 'GAN_generator.pt')):\n",
    "    generator = torch.jit.load(os.path.join(model_path, 'GAN_generator.pt'), map_location='cpu')\n",
    "else:\n",
    "    print('train model first!')\n",
    "\n",
    "el_list_loc = 'misc/element_order_uts.pkl'\n",
    "with open(el_list_loc,'rb') as fid:\n",
    "    el_list = pickle.load(fid)\n",
    "\n",
    "with open('misc/scaler_y.pkl','rb') as fid:\n",
    "    uts_scaler = pickle.load(fid)\n",
    "\n",
    "with open('misc/starting_comp.json','r') as fid:\n",
    "    json_dict = json.load(fid)"
   ],
   "metadata": {
    "collapsed": false,
    "pycharm": {
     "name": "#%%\n"
    }
   }
  },
  {
   "cell_type": "code",
   "execution_count": null,
   "outputs": [],
   "source": [
    "dataset = pd.read_csv('dataset/synthetic_dataset.csv', index_col = 0)\n",
    "to_train_df = dataset[dataset['uts1200C']>0].copy()\n",
    "comp_dset = data_generator_vec(to_train_df['Composition'], el_list=el_list)\n",
    "vec_comps = comp_dset.real_data\n",
    "y = to_train_df['uts1200C'].values.reshape(-1,1).astype('float32')\n",
    "y_scaled = uts_scaler.transform(y)\n",
    "kde = KernelDensity(kernel='gaussian',bandwidth=0.5)\n",
    "v = kde.fit(y_scaled)\n",
    "\n",
    "def prop_sampler(n_samples):\n",
    "    return kde.sample(n_samples).astype('float32')\n",
    "\n",
    "def noise_sampler(N, z_dim):\n",
    "    return np.random.normal(size=[N, z_dim]).astype('float32')\n",
    "\n",
    "latent_dim = 4"
   ],
   "metadata": {
    "collapsed": false,
    "pycharm": {
     "name": "#%%\n"
    }
   }
  },
  {
   "cell_type": "code",
   "execution_count": null,
   "outputs": [],
   "source": [
    "desired_uts = np.array(json_dict['start_uts']).reshape(-1,1).astype('float32')\n",
    "scaled_desired_uts = uts_scaler.transform(desired_uts)\n",
    "def ga_inputs(N, z_dim = latent_dim):\n",
    "    #prop = torch.from_numpy(scaled_desired_uts)*torch.ones((N,1))\n",
    "    noise = torch.from_numpy(noise_sampler(N,z_dim))\n",
    "    return noise\n",
    "\n",
    "desired_output = np.array(json_dict['start_comp'])"
   ],
   "metadata": {
    "collapsed": false,
    "pycharm": {
     "name": "#%%\n"
    }
   }
  },
  {
   "cell_type": "code",
   "execution_count": null,
   "outputs": [],
   "source": [
    "from sklearn.metrics import mean_absolute_error, mean_squared_error\n",
    "def fitness_func(solution, solution_idx):\n",
    "    solution = torch.from_numpy(solution.reshape(-1,latent_dim).astype('float32'))\n",
    "    prop_input = torch.from_numpy(scaled_desired_uts*np.ones((solution.shape[0],1)).astype('float32'))\n",
    "    with torch.no_grad():\n",
    "        output = generator(solution,prop_input)\n",
    "    #idx = np.argwhere(np.array(json_dict['start_comp'])==0)\n",
    "    #output[:,idx] = 0\n",
    "    #weights = np.abs(output - desired_output)\n",
    "    distance = mean_absolute_error(output.flatten(),desired_output.flatten())\n",
    "    fitness = 1/distance #- (1-np.sum(output))\n",
    "    return fitness"
   ],
   "metadata": {
    "collapsed": false,
    "pycharm": {
     "name": "#%%\n"
    }
   }
  },
  {
   "cell_type": "code",
   "execution_count": null,
   "outputs": [],
   "source": [
    "fitness_function = fitness_func\n",
    "\n",
    "num_generations = 5000\n",
    "num_parents_mating = 2\n",
    "\n",
    "sol_per_pop = 20\n",
    "num_genes = latent_dim\n",
    "\n",
    "initial_population = ga_inputs(1000)\n",
    "\n",
    "init_range_low = -2\n",
    "init_range_high = 5\n",
    "\n",
    "parent_selection_type = \"sss\"\n",
    "keep_parents = 1\n",
    "\n",
    "crossover_type = \"single_point\"\n",
    "\n",
    "mutation_type = \"adaptive\"\n",
    "mutation_probability = (0.3,0.05)\n",
    "mutation_percent_genes = (20,5)"
   ],
   "metadata": {
    "collapsed": false,
    "pycharm": {
     "name": "#%%\n"
    }
   }
  },
  {
   "cell_type": "code",
   "execution_count": null,
   "outputs": [],
   "source": [
    "ga_instance = pygad.GA(num_generations=num_generations,\n",
    "                       num_parents_mating=num_parents_mating,\n",
    "                       fitness_func=fitness_function,\n",
    "                       sol_per_pop=sol_per_pop,\n",
    "                       num_genes=num_genes,\n",
    "                       init_range_low=init_range_low,\n",
    "                       init_range_high=init_range_high,\n",
    "                       parent_selection_type=parent_selection_type,\n",
    "                       keep_parents=keep_parents,\n",
    "                       crossover_type=crossover_type,\n",
    "                       mutation_type=mutation_type,\n",
    "                       mutation_percent_genes=mutation_percent_genes,\n",
    "                       mutation_probability=mutation_probability,\n",
    "                       initial_population=initial_population)\n",
    "ga_instance.run()"
   ],
   "metadata": {
    "collapsed": false,
    "pycharm": {
     "name": "#%%\n"
    }
   }
  },
  {
   "cell_type": "code",
   "execution_count": null,
   "outputs": [],
   "source": [
    "solution, solution_fitness, solution_idx = ga_instance.best_solution()"
   ],
   "metadata": {
    "collapsed": false,
    "pycharm": {
     "name": "#%%\n"
    }
   }
  },
  {
   "cell_type": "code",
   "execution_count": null,
   "outputs": [],
   "source": [
    "solution = torch.from_numpy(solution.reshape(-1,latent_dim).astype('float32'))\n",
    "prop_input = torch.from_numpy(scaled_desired_uts*np.ones((solution.shape[0],1)).astype('float32'))\n",
    "out = generator(solution,prop_input)\n",
    "plt.imshow(out.to('cpu').detach().numpy())"
   ],
   "metadata": {
    "collapsed": false,
    "pycharm": {
     "name": "#%%\n"
    }
   }
  },
  {
   "cell_type": "code",
   "execution_count": null,
   "outputs": [],
   "source": [
    "out"
   ],
   "metadata": {
    "collapsed": false,
    "pycharm": {
     "name": "#%%\n"
    }
   }
  },
  {
   "cell_type": "code",
   "execution_count": null,
   "outputs": [],
   "source": [
    "plt.imshow(np.array(json_dict['start_comp']).reshape(1,-1))"
   ],
   "metadata": {
    "collapsed": false,
    "pycharm": {
     "name": "#%%\n"
    }
   }
  },
  {
   "cell_type": "code",
   "execution_count": 68,
   "metadata": {
    "pycharm": {
     "name": "#%%\n"
    }
   },
   "outputs": [
    {
     "data": {
      "text/plain": [
       "<matplotlib.image.AxesImage at 0x7f916e4aa8c0>"
      ]
     },
     "execution_count": 68,
     "metadata": {},
     "output_type": "execute_result"
    },
    {
     "data": {
      "image/png": "[encoded data removed]",
      "text/plain": [
       "<Figure size 432x288 with 1 Axes>"
      ]
     },
     "metadata": {
      "needs_background": "light"
     },
     "output_type": "display_data"
    }
   ],
   "source": [
    "plt.imshow(np.array(json_dict['start_comp']).reshape(1,-1))"
   ]
  }
 ],
 "metadata": {
  "kernelspec": {
   "display_name": "Python 3.10.4 ('candidate_generation': conda)",
   "language": "python",
   "name": "python3"
  },
  "language_info": {
   "codemirror_mode": {
    "name": "ipython",
    "version": 3
   },
   "file_extension": ".py",
   "mimetype": "text/x-python",
   "name": "python",
   "nbconvert_exporter": "python",
   "pygments_lexer": "ipython3",
   "version": "3.10.4"
  },
  "orig_nbformat": 4,
  "vscode": {
   "interpreter": {
    "hash": "1ed46dbf2dc3b84a6540364823b95a5ac7e2b31867fc38c2b8073c2d844b2bb6"
   }
  }
 },
 "nbformat": 4,
 "nbformat_minor": 2
}