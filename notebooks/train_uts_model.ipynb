{
 "cells": [
  {
   "cell_type": "code",
   "execution_count": 1,
   "metadata": {},
   "outputs": [],
   "source": [
    "import os\n",
    "import sys\n",
    "module_path = os.path.abspath(os.path.join('..'))\n",
    "if module_path not in sys.path:\n",
    "    sys.path.append(module_path)\n",
    "os.chdir('..')"
   ]
  },
  {
   "cell_type": "code",
   "execution_count": 2,
   "metadata": {},
   "outputs": [],
   "source": [
    "import torch\n",
    "import pandas as pd\n",
    "import numpy as np\n",
    "import re\n",
    "from modules.functions import data_generator_vec\n",
    "from modules.pytorch_models import MLP_torch\n",
    "from sklearn.preprocessing import StandardScaler\n",
    "from sklearn.model_selection import KFold\n",
    "import torch.optim as optim\n",
    "import torch.nn as nn\n",
    "import tqdm\n",
    "from torch.utils.data import DataLoader\n",
    "from modules.metrics import rmse_loss, mse_loss\n",
    "from modules.trained_models import get_uts_without_grain\n",
    "from scipy.stats import pearsonr\n",
    "import matplotlib.pyplot as plt\n",
    "import glob\n",
    "import pickle"
   ]
  },
  {
   "cell_type": "code",
   "execution_count": 3,
   "metadata": {},
   "outputs": [],
   "source": [
    "misc_files = 'misc'\n",
    "el_order_loc = os.path.join(misc_files,'element_order_uts.pkl')\n",
    "with open(el_order_loc,'rb') as fid:\n",
    "    el_order = pickle.load(fid)"
   ]
  },
  {
   "cell_type": "code",
   "execution_count": 4,
   "metadata": {},
   "outputs": [],
   "source": [
    "uts_df = pd.read_csv('dataset/ultimate tensile strength.csv',index_col = 0)\n",
    "uts_df.drop(['grain_size_micro'], axis=1,inplace=True)\n",
    "uts_df.dropna(inplace=True)\n",
    "uts_df.reset_index(inplace=True, drop=True)\n",
    "annealed = []\n",
    "for p in uts_df['process'].values:\n",
    "    m = re.match(r\"[^[]*\\[([^]]*)\\]\", p).groups()[0]\n",
    "    list_m = m.replace('\\'','').split(',')\n",
    "    list_m = [x.strip() for x in list_m]\n",
    "    if 'A' in list_m:\n",
    "        annealed.append(1)\n",
    "    else:\n",
    "        annealed.append(0)\n",
    "phase_group = []\n",
    "SS = ['BCC','FCC','HCP','B2']\n",
    "for p in uts_df['Phase'].values:\n",
    "    m = re.match(r\"[^[]*\\[([^]]*)\\]\", p).groups()[0]\n",
    "    list_m = m.replace('\\'','').split(',')\n",
    "    list_m = [x.strip() for x in list_m]\n",
    "    if len(list_m) == 1 and len(set(SS).intersection(set(list_m))) == 1:\n",
    "        phase_group.append('SSP')  \n",
    "    elif len(list_m) > 1 and len(set(SS).union(set(list_m))) == len(SS):\n",
    "        phase_group.append('SSM')\n",
    "    else:\n",
    "        phase_group.append('IM')\n",
    "labels = pd.get_dummies(phase_group).columns\n",
    "phase_one_hot = pd.get_dummies(phase_group).values\n",
    "temp = uts_df['Temperature'].values.reshape(-1,1)\n",
    "annealed = np.array(annealed).reshape(-1,1)"
   ]
  },
  {
   "cell_type": "code",
   "execution_count": null,
   "metadata": {},
   "outputs": [],
   "source": []
  },
  {
   "cell_type": "code",
   "execution_count": 13,
   "metadata": {},
   "outputs": [],
   "source": [
    "np.random.seed(0)\n",
    "dgen = data_generator_vec(uts_df['Composition'], el_order)\n",
    "comp_feats, _ = dgen.real_data, dgen.elements\n",
    "features = np.concatenate([comp_feats,temp,annealed,phase_one_hot],axis=1).astype('float32')\n",
    "unscaled_y = uts_df['ultimate tensile strength'].values.astype('float32')\n",
    "unscaled_y = np.array([x/1e9 for x in unscaled_y])\n",
    "\n",
    "x_scaler = StandardScaler()\n",
    "y_scaler = StandardScaler()\n",
    "X = x_scaler.fit_transform(features)\n",
    "y = y_scaler.fit_transform(unscaled_y.reshape(-1,1))\n",
    "X,y = X.astype('float32'), y.astype('float32')\n",
    "kf = KFold(n_splits=10, shuffle=True, random_state = 0)\n",
    "kf.get_n_splits(X)\n",
    "\n",
    "misc_files = 'misc'\n",
    "if not os.path.exists(misc_files):\n",
    "    os.makedirs(misc_files)\n",
    "var_scalers = ['x','y']\n",
    "for var in var_scalers:\n",
    "    to_save_path = os.path.join(misc_files,'scaler_{}.pkl'.format(var))\n",
    "    with open(to_save_path,'wb') as fid:\n",
    "        if var == 'x':\n",
    "            pickle.dump(x_scaler,fid)\n",
    "        else:\n",
    "            pickle.dump(y_scaler,fid)\n",
    "el_order_loc = os.path.join(misc_files,'element_order_uts.pkl')\n",
    "with open(el_order_loc,'wb') as fid:\n",
    "    pickle.dump(el_order,fid)"
   ]
  },
  {
   "cell_type": "markdown",
   "metadata": {},
   "source": [
    "## Training"
   ]
  },
  {
   "cell_type": "code",
   "execution_count": null,
   "metadata": {},
   "outputs": [],
   "source": [
    "num_iterations = int(1e1)\n",
    "log_interval = int(10)\n",
    "\n",
    "e_it = 100\n",
    "batch_size = 32\n",
    "\n",
    "def train_mlp(train_loader, model, optimizer):\n",
    "    train_loss = 0\n",
    "    for data in train_loader:\n",
    "        X, y = data\n",
    "\n",
    "        \n",
    "        # Train E on G's response\n",
    "        optimizer.zero_grad()\n",
    "\n",
    "        target = model(X)\n",
    "        error = nn.MSELoss()(target,y)\n",
    "        error.backward(retain_graph=True)\n",
    "        optimizer.step()\n",
    "        train_loss += error.cpu().item()\n",
    "    return train_loss/len(train_loader)\n",
    "\n",
    "for iter,(train_index, test_index) in enumerate(kf.split(X)):\n",
    "        \n",
    "        X_train, X_test = X[train_index], X[test_index]\n",
    "        y_train, y_test = y[train_index], y[test_index]\n",
    "\n",
    "        mlp = MLP_torch(X_test.shape[1],50,1)\n",
    "        mlp_optimizer = optim.Adam(mlp.parameters(),lr = 1e-4)\n",
    "\n",
    "        stat_dict = {}\n",
    "        stat_dict['rmse'], stat_dict['r'] = [],[]\n",
    "\n",
    "        for it in tqdm.notebook.tqdm(range(num_iterations)):\n",
    "            Xy = [(X_train[i],y_train[i]) for i in range(X_train.shape[0])]\n",
    "            train_loader = DataLoader(Xy, batch_size=batch_size, shuffle=True)\n",
    "\n",
    "            for sub in range(e_it):\n",
    "                train_loss = train_mlp(train_loader,mlp,mlp_optimizer)\n",
    "                #sub_it = it * e_it + sub\n",
    "                #if sub_it == 0 or (sub_it + 1) % log_interval == 0:\n",
    "                #    print('Fold {} :: Iteration {} :: Sub-iteration {} :: Loss {}'.format(iter,it,sub,train_loss))\n",
    "            y_pred = mlp(torch.from_numpy(X_test)).to('cpu').detach().numpy()\n",
    "            y_pred_scaled = y_scaler.inverse_transform(y_pred)\n",
    "            y_test_scaled = y_scaler.inverse_transform(y_test)\n",
    "            stat_dict['rmse'].append(rmse_loss(y_test_scaled,y_pred_scaled))\n",
    "            corr, _ = pearsonr(y_test_scaled.ravel(),y_pred_scaled.ravel())\n",
    "            stat_dict['r'].append(corr)\n",
    "        save_path = 'saved_models/UTS_models'\n",
    "        if not os.path.exists(save_path):\n",
    "            os.makedirs(save_path)\n",
    "        model_scripted = torch.jit.script(mlp.cpu())\n",
    "        model_scripted.save(os.path.join(save_path,'Fold_{}.pt'.format(iter)))"
   ]
  },
  {
   "cell_type": "code",
   "execution_count": 36,
   "metadata": {},
   "outputs": [
    {
     "data": {
      "text/plain": [
       "'saved_models/uts_model.pt'"
      ]
     },
     "execution_count": 36,
     "metadata": {},
     "output_type": "execute_result"
    }
   ],
   "source": [
    "import shutil\n",
    "best_model_loc = 'saved_models'\n",
    "if not os.path.exists(best_model_loc):\n",
    "    os.makedirs(f'{best_model_loc}')\n",
    "stat_df = pd.DataFrame.from_dict(stat_dict)\n",
    "ind_max = np.argmax(stat_df['r'])\n",
    "all_model_paths = sorted(glob.glob('{}/*'.format(save_path)))\n",
    "best_model_path = all_model_paths[ind_max]\n",
    "shutil.copy(best_model_path, os.path.join(best_model_loc,'uts_model.pt')) "
   ]
  },
  {
   "cell_type": "markdown",
   "metadata": {},
   "source": [
    "## Validation"
   ]
  },
  {
   "cell_type": "code",
   "execution_count": 14,
   "metadata": {},
   "outputs": [],
   "source": [
    "model = torch.jit.load('saved_models/uts_model.pt')\n",
    "compositions = ['Nb17W32Zr18Ti32','Nb6Mo3W27Zr30Ti30V3','Nb47Mo13W7Zr17Ti3V13']\n",
    "phases = ['SSM','SSM','SSP']\n",
    "phase_group = ['SSP','SSM','IM']\n",
    "temperature_list = np.arange(298,1200,10)\n",
    "labels = pd.get_dummies(phase_group).columns\n",
    "phase_ar = np.zeros((len(compositions),len(labels)))\n",
    "for i,p in enumerate(phases):\n",
    "    col_ind = np.argwhere(labels==p).item()\n",
    "    phase_ar[i,col_ind] = 1\n",
    "process = np.zeros((len(temperature_list)*len(compositions),1))\n",
    "rep_phase_ar = np.tile(phase_ar,[len(temperature_list),1])\n",
    "rep_compositions = compositions*len(temperature_list)\n",
    "temperature = []\n",
    "for t in temperature_list:\n",
    "    temperature.extend([t]*len(compositions))\n",
    "temperature = np.array(temperature).reshape(-1,1)"
   ]
  },
  {
   "cell_type": "code",
   "execution_count": 22,
   "metadata": {},
   "outputs": [],
   "source": [
    "dgen_test = data_generator_vec(rep_compositions, el_order)\n",
    "X = dgen_test.real_data\n",
    "temp = temperature\n",
    "annealed = process\n",
    "phase_one_hot = rep_phase_ar\n",
    "models = ['MLP']\n",
    "results = {}\n",
    "for m in models:\n",
    "    X_test = np.concatenate([X,temp,annealed,phase_one_hot],axis=1)\n",
    "    X_test_scaled = x_scaler.transform(X_test)\n",
    "    \n",
    "    y_pred = model(torch.from_numpy(X_test_scaled.astype('float32')))\n",
    "    y_pred = y_scaler.inverse_transform(y_pred.to('cpu').detach().numpy().reshape(-1,1))\n",
    "    results[m] = y_pred"
   ]
  },
  {
   "cell_type": "code",
   "execution_count": 26,
   "metadata": {},
   "outputs": [
    {
     "data": {
      "text/plain": [
       "<matplotlib.legend.Legend at 0x7efc5f726a10>"
      ]
     },
     "execution_count": 26,
     "metadata": {},
     "output_type": "execute_result"
    },
    {
     "data": {
      "image/png": "[encoded data removed]",
      "text/plain": [
       "<Figure size 720x360 with 1 Axes>"
      ]
     },
     "metadata": {
      "needs_background": "light"
     },
     "output_type": "display_data"
    }
   ],
   "source": [
    "uniques = ['A7','A8','A9']\n",
    "fig,ax = plt.subplots(figsize = (10,5))\n",
    "for j,m in enumerate(results.keys()):\n",
    "    for k in uniques:\n",
    "        extended = np.array(uniques*len(temperature_list))\n",
    "        inds = np.argwhere(extended == k)\n",
    "\n",
    "        ax.plot(temperature[inds].flatten(),results[m][inds].flatten(), marker='v',label = k, markersize = 2)\n",
    "        ax.set_title(m)\n",
    "fig.text(0.5, 0.0,'Temperature (K)' , ha='center', fontsize=14)\n",
    "fig.text(0.0, 0.5, 'UTS', va='center', rotation='vertical', fontsize=14)\n",
    "fig.suptitle('Prediction of UTS for A7-A9 samples for different temperatures', fontsize=14)\n",
    "#plt.xlabel('Temperature (K)')\n",
    "#plt.ylabel('UTS (GPa)')\n",
    "plt.legend()\n"
   ]
  },
  {
   "cell_type": "markdown",
   "metadata": {},
   "source": [
    "## Predict UTS values of synthetic compositions at 1200C"
   ]
  },
  {
   "cell_type": "code",
   "execution_count": 6,
   "metadata": {},
   "outputs": [],
   "source": [
    "dataset = pd.read_csv('dataset/synthetic_dataset.csv', index_col = 0)\n",
    "to_get_dset = data_generator_vec(dataset['Composition'], el_order)"
   ]
  },
  {
   "cell_type": "code",
   "execution_count": 36,
   "metadata": {},
   "outputs": [],
   "source": [
    "uts_synthetic = [get_uts_without_grain(i.reshape(1,-1)).item() for i in to_get_dset.real_data]\n",
    "dataset['uts1200C'] = uts_synthetic\n",
    "dataset.to_csv('dataset/synthetic_dataset.csv')"
   ]
  }
 ],
 "metadata": {
  "kernelspec": {
   "display_name": "Python 3.10.4 ('candidate_generation': conda)",
   "language": "python",
   "name": "python3"
  },
  "language_info": {
   "codemirror_mode": {
    "name": "ipython",
    "version": 3
   },
   "file_extension": ".py",
   "mimetype": "text/x-python",
   "name": "python",
   "nbconvert_exporter": "python",
   "pygments_lexer": "ipython3",
   "version": "3.10.4"
  },
  "orig_nbformat": 4,
  "vscode": {
   "interpreter": {
    "hash": "1ed46dbf2dc3b84a6540364823b95a5ac7e2b31867fc38c2b8073c2d844b2bb6"
   }
  }
 },
 "nbformat": 4,
 "nbformat_minor": 2
}
