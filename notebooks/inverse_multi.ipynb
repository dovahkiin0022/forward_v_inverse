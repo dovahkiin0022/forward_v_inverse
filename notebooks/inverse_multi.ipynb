{
 "cells": [
  {
   "cell_type": "code",
   "execution_count": 3,
   "metadata": {},
   "outputs": [],
   "source": [
    "import os\n",
    "import sys\n",
    "module_path = os.path.abspath(os.path.join('..'))\n",
    "if module_path not in sys.path:\n",
    "    sys.path.append(module_path)\n",
    "os.chdir('..')"
   ]
  },
  {
   "cell_type": "code",
   "execution_count": 2,
   "metadata": {},
   "outputs": [
    {
     "name": "stderr",
     "output_type": "stream",
     "text": [
      "2023-01-20 01:29:47.319525: I tensorflow/core/util/util.cc:169] oneDNN custom operations are on. You may see slightly different numerical results due to floating-point round-off errors from different computation orders. To turn them off, set the environment variable `TF_ENABLE_ONEDNN_OPTS=0`.\n"
     ]
    }
   ],
   "source": [
    "import pandas as pd\n",
    "import numpy as np\n",
    "import pickle\n",
    "from modules.functions import pymatgen_comp, data_generator_vec, check_cuda\n",
    "from modules.pytorch_models import Generator, Discriminator\n",
    "from modules.trained_models import get_uts_without_grain\n",
    "import matplotlib.pyplot as plt\n",
    "import torch\n",
    "import torch.optim as optim\n",
    "from sklearn.neighbors import KernelDensity\n",
    "import torch.nn as nn\n",
    "import tqdm\n",
    "import seaborn as sns\n",
    "import umap\n",
    "import json"
   ]
  },
  {
   "cell_type": "code",
   "execution_count": 3,
   "metadata": {},
   "outputs": [],
   "source": [
    "el_list_loc = 'misc/element_order_uts.pkl'\n",
    "with open(el_list_loc,'rb') as fid:\n",
    "    el_list = pickle.load(fid)\n",
    "\n",
    "with open('misc/scaler_y_multi.pkl','rb') as fid:\n",
    "    scaler = pickle.load(fid)"
   ]
  },
  {
   "cell_type": "markdown",
   "metadata": {
    "pycharm": {
     "name": "#%% md\n"
    }
   },
   "source": [
    "# GAN"
   ]
  },
  {
   "cell_type": "code",
   "execution_count": 4,
   "metadata": {},
   "outputs": [],
   "source": [
    "dataset = pd.read_csv('dataset/synthetic_dataset.csv', index_col = 0)\n",
    "to_train_df = dataset[dataset['uts1200C']>0].copy()\n",
    "comp_dset = data_generator_vec(to_train_df['Composition'], el_list=el_list)\n",
    "vec_comps = comp_dset.real_data\n",
    "properties = ['uts1200C','price','density']\n",
    "\n",
    "y = to_train_df.loc[:,properties].values.reshape(-1,len(properties)).astype('float32')\n",
    "y_scaled = scaler.transform(y)\n",
    "kde = KernelDensity(kernel='gaussian',bandwidth=0.5)\n",
    "v = kde.fit(y_scaled)"
   ]
  },
  {
   "cell_type": "code",
   "execution_count": 5,
   "metadata": {},
   "outputs": [],
   "source": [
    "def prop_sampler(n_samples):\n",
    "    return kde.sample(n_samples).astype('float32')\n",
    "\n",
    "def noise_sampler(N, z_dim):\n",
    "    return np.random.normal(size=[N, z_dim]).astype('float32')\n",
    "\n",
    "\n",
    "def plot(points,dset, title,  thresh=0.01):\n",
    "\n",
    "    fig, ax = plt.subplots(2, 2, figsize=(8, 8))\n",
    "    ax = ax.flatten()\n",
    "    ax[0].set_title(title)\n",
    "    ax[0].violinplot(points, np.arange(points.shape[1]))\n",
    "    ax[0].set_xticks(np.arange(dset.size))\n",
    "    ax[0].set_xticklabels(dset.elements)\n",
    "    s = points.sum(axis=1)\n",
    "    if np.max(s) - np.min(s) < 0.010:\n",
    "        ax[1].hist(s, np.linspace(0.990, 1.010, 6))\n",
    "    else:\n",
    "        ax[1].hist(s)\n",
    "    ax[2].hist(points.flatten())\n",
    "    ne = (points > thresh).sum(axis=1)\n",
    "    ax[3].hist(ne, np.arange(0, 12), width=0.80)\n",
    "    plt.show()\n",
    "    plt.close()\n"
   ]
  },
  {
   "cell_type": "code",
   "execution_count": 6,
   "metadata": {},
   "outputs": [
    {
     "name": "stderr",
     "output_type": "stream",
     "text": [
      "/noether/s0/aqd5773/anaconda3/envs/candidate_generation/lib/python3.10/site-packages/torch/cuda/__init__.py:83: UserWarning: CUDA initialization: Unexpected error from cudaGetDeviceCount(). Did you run some cuda functions before calling NumCudaDevices() that might have already set an error? Error 803: system has unsupported display driver / cuda driver combination (Triggered internally at  /opt/conda/conda-bld/pytorch_1659484808560/work/c10/cuda/CUDAFunctions.cpp:109.)\n",
      "  return torch._C._cuda_getDeviceCount() > 0\n"
     ]
    }
   ],
   "source": [
    "batch_size =1000\n",
    "minibatch_size = batch_size\n",
    "prop_dim = y_scaled.shape[1]\n",
    "latent_dim = 4\n",
    "gen_in = latent_dim + prop_dim\n",
    "hidden = gen_in*2\n",
    "n_hidden = 3\n",
    "gen_out = comp_dset.size\n",
    "cuda = check_cuda()"
   ]
  },
  {
   "cell_type": "code",
   "execution_count": null,
   "metadata": {},
   "outputs": [],
   "source": [
    "model_path = 'saved_models'\n",
    "if os.path.exists(os.path.join(model_path, 'GAN_generator_multi.pt')):\n",
    "    generator = torch.jit.load(os.path.join(model_path, 'GAN_generator_multi_test.pt'), map_location='cpu')\n",
    "else:\n",
    "    print('train model first!')"
   ]
  },
  {
   "cell_type": "code",
   "execution_count": null,
   "metadata": {},
   "outputs": [],
   "source": [
    "import json\n",
    "from modules.mongodb_rom import calculate_density, calculate_price\n",
    "from modules.functions import get_comp\n",
    "with open('misc/starting_comp.json','r') as fid:\n",
    "    start_comp_dict = json.load(fid)\n",
    "\n",
    "start_comp = start_comp_dict['start_comp']\n",
    "start_comp_decoded = get_comp(np.array(start_comp), el_list)\n",
    "#pmg_start_comp = pymatgen_comp([start_comp_decoded])[0]\n",
    "start_uts = start_comp_dict['start_uts']\n",
    "start_price = calculate_price(start_comp_decoded)\n",
    "start_density = calculate_density(start_comp_decoded)"
   ]
  },
  {
   "cell_type": "code",
   "execution_count": null,
   "metadata": {},
   "outputs": [],
   "source": [
    "lc = noise_sampler(1,4)\n",
    "c_unscaled = np.array([1.4, 31.54, 8.24]).reshape(1,-1)\n",
    "c_scaled = scaler.transform(c_unscaled)\n",
    "c = (np.ones((1,3))*c_scaled).astype('float32')\n",
    "\n",
    "\n",
    "tc_t = torch.from_numpy(lc)\n",
    "c = torch.from_numpy(c)\n",
    "g_fake = generator(tc_t,c).to('cpu').detach().numpy()"
   ]
  },
  {
   "cell_type": "code",
   "execution_count": null,
   "metadata": {},
   "outputs": [],
   "source": [
    "get_uts_without_grain(g_fake[0].reshape(1,-1)).item(), calculate_price(get_comp(g_fake[0], el_list)), calculate_density(get_comp(g_fake[0], el_list))"
   ]
  },
  {
   "cell_type": "code",
   "execution_count": null,
   "metadata": {},
   "outputs": [],
   "source": [
    "from modules.mongodb_rom import calculate_entropy_mixing\n",
    "t = get_comp(g_fake[0], el_list)\n",
    "t,calculate_entropy_mixing(t)"
   ]
  },
  {
   "cell_type": "code",
   "execution_count": null,
   "metadata": {},
   "outputs": [],
   "source": [
    "decoded_comp = [get_comp(x, el_list) for x in g_fake]\n",
    "\n",
    "json_dict = {\n",
    "    'decoded_comp': decoded_comp[0].reduced_formula,\n",
    "    'start_comp' : g_fake[0].tolist(),\n",
    "    'start_uts' : get_uts_without_grain(g_fake[0].reshape(1,-1)).item(),\n",
    "    'start_w_content' : g_fake[0][-1],\n",
    "}\n",
    "\n",
    "with open('misc/starting_comp_multi.json','wb') as fid:\n",
    "    pickle.dump(json_dict,fid)"
   ]
  }
 ],
 "metadata": {
  "kernelspec": {
   "display_name": "Python 3.10.4 ('candidate_generation': conda)",
   "language": "python",
   "name": "python3"
  },
  "language_info": {
   "codemirror_mode": {
    "name": "ipython",
    "version": 3
   },
   "file_extension": ".py",
   "mimetype": "text/x-python",
   "name": "python",
   "nbconvert_exporter": "python",
   "pygments_lexer": "ipython3",
   "version": "3.6.15"
  },
  "orig_nbformat": 4,
  "vscode": {
   "interpreter": {
    "hash": "1ed46dbf2dc3b84a6540364823b95a5ac7e2b31867fc38c2b8073c2d844b2bb6"
   }
  }
 },
 "nbformat": 4,
 "nbformat_minor": 2
}
