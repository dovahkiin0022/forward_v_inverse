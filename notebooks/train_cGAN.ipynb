{
 "cells": [
  {
   "cell_type": "code",
   "execution_count": 1,
   "metadata": {
    "pycharm": {
     "name": "#%%\n"
    }
   },
   "outputs": [],
   "source": [
    "import os\n",
    "import sys\n",
    "module_path = os.path.abspath(os.path.join('..'))\n",
    "if module_path not in sys.path:\n",
    "    sys.path.append(module_path)\n",
    "os.chdir('..')"
   ]
  },
  {
   "cell_type": "code",
   "execution_count": 2,
   "metadata": {
    "pycharm": {
     "name": "#%%\n"
    }
   },
   "outputs": [],
   "source": [
    "import pandas as pd\n",
    "import numpy as np\n",
    "import pickle\n",
    "from modules.functions import pymatgen_comp, data_generator_vec, check_cuda\n",
    "from modules.pytorch_models import Generator, Discriminator\n",
    "import matplotlib.pyplot as plt\n",
    "import torch\n",
    "import torch.optim as optim\n",
    "from sklearn.neighbors import KernelDensity\n",
    "import torch.nn as nn\n",
    "import tqdm"
   ]
  },
  {
   "cell_type": "code",
   "execution_count": 3,
   "metadata": {
    "pycharm": {
     "name": "#%%\n"
    }
   },
   "outputs": [
    {
     "name": "stderr",
     "output_type": "stream",
     "text": [
      "/Users/wfr5091/opt/anaconda3/envs/forward_v_inverse/lib/python3.10/site-packages/sklearn/base.py:329: UserWarning: Trying to unpickle estimator StandardScaler from version 1.1.2 when using version 1.1.3. This might lead to breaking code or invalid results. Use at your own risk. For more info please refer to:\n",
      "https://scikit-learn.org/stable/model_persistence.html#security-maintainability-limitations\n",
      "  warnings.warn(\n"
     ]
    }
   ],
   "source": [
    "el_list_loc = 'misc/element_order_uts.pkl'\n",
    "with open(el_list_loc,'rb') as fid:\n",
    "    el_list = pickle.load(fid)\n",
    "\n",
    "with open('misc/scaler_y.pkl','rb') as fid:\n",
    "    uts_scaler = pickle.load(fid)"
   ]
  },
  {
   "cell_type": "code",
   "execution_count": 4,
   "metadata": {
    "pycharm": {
     "name": "#%%\n"
    }
   },
   "outputs": [],
   "source": [
    "dataset = pd.read_csv('dataset/synthetic_dataset.csv', index_col = 0)\n",
    "to_train_df = dataset[dataset['uts1200C']>0].copy()\n",
    "comp_dset = data_generator_vec(to_train_df['Composition'], el_list=el_list)\n",
    "vec_comps = comp_dset.real_data\n",
    "y = to_train_df['uts1200C'].values.reshape(-1,1).astype('float32')\n",
    "y_scaled = uts_scaler.transform(y)\n",
    "kde = KernelDensity(kernel='gaussian',bandwidth=0.5)\n",
    "v = kde.fit(y_scaled)"
   ]
  },
  {
   "cell_type": "code",
   "execution_count": 5,
   "metadata": {
    "pycharm": {
     "name": "#%%\n"
    }
   },
   "outputs": [],
   "source": [
    "def prop_sampler(n_samples):\n",
    "    return kde.sample(n_samples).astype('float32')\n",
    "\n",
    "def noise_sampler(N, z_dim):\n",
    "    return np.random.normal(size=[N, z_dim]).astype('float32')\n",
    "\n",
    "\n",
    "def plot(points,dset, title,  thresh=0.01):\n",
    "\n",
    "    fig, ax = plt.subplots(2, 2, figsize=(8, 8))\n",
    "    ax = ax.flatten()\n",
    "    ax[0].set_title(title)\n",
    "    ax[0].violinplot(points, np.arange(points.shape[1]))\n",
    "    ax[0].set_xticks(np.arange(dset.size))\n",
    "    ax[0].set_xticklabels(dset.elements)\n",
    "    s = points.sum(axis=1)\n",
    "    if np.max(s) - np.min(s) < 0.010:\n",
    "        ax[1].hist(s, np.linspace(0.990, 1.010, 6))\n",
    "    else:\n",
    "        ax[1].hist(s)\n",
    "    ax[2].hist(points.flatten())\n",
    "    ne = (points > thresh).sum(axis=1)\n",
    "    ax[3].hist(ne, np.arange(0, 12), width=0.80)\n",
    "    plt.show()\n",
    "    plt.close()\n"
   ]
  },
  {
   "cell_type": "code",
   "execution_count": 6,
   "metadata": {
    "pycharm": {
     "name": "#%%\n"
    }
   },
   "outputs": [],
   "source": [
    "batch_size = 1 # 1000\n",
    "minibatch_size = batch_size\n",
    "prop_dim = y_scaled.shape[1]\n",
    "latent_dim = 6\n",
    "gen_in = latent_dim + prop_dim\n",
    "hidden = gen_in*2\n",
    "n_hidden = 3\n",
    "gen_out = comp_dset.size\n",
    "generator = Generator(gen_in,n_hidden,hidden,gen_out)\n",
    "discriminator = Discriminator(gen_out+prop_dim,n_hidden,hidden,1)\n",
    "optim_betas = (0.5, 0.999)\n",
    "generator_optimizer = torch.optim.Adam(generator.parameters(), lr=0.001,betas=optim_betas)\n",
    "discriminator_optimizer = torch.optim.Adam(discriminator.parameters(), lr=0.001,betas=optim_betas)\n",
    "loss = nn.BCELoss()\n",
    "d_steps = 1\n",
    "g_steps = 1\n",
    "prefix = 'Epoch'\n",
    "cuda = check_cuda()\n",
    "num_iterations = 1 # int(2e4)\n",
    "log_interval = int(5e2)"
   ]
  },
  {
   "cell_type": "code",
   "execution_count": 7,
   "metadata": {
    "pycharm": {
     "name": "#%%\n"
    }
   },
   "outputs": [],
   "source": [
    "if cuda:\n",
    "    generator = generator.cuda()\n",
    "    discriminator = discriminator.cuda()"
   ]
  },
  {
   "cell_type": "code",
   "execution_count": 8,
   "metadata": {
    "pycharm": {
     "name": "#%%\n"
    }
   },
   "outputs": [],
   "source": [
    "def d_loop(dset=comp_dset, scaled_props = y_scaled):\n",
    "  discriminator_optimizer.zero_grad()\n",
    "  train_data, train_idx = dset.sample(batch_size)\n",
    "  train_prop = scaled_props[train_idx]\n",
    "  d_real_data = torch.from_numpy(train_data)\n",
    "  d_real_prop = torch.from_numpy(train_prop)\n",
    "  if cuda:\n",
    "        d_real_data = d_real_data.cuda()\n",
    "        d_real_prop = d_real_prop.cuda()\n",
    "  \n",
    "  true_discriminator_out = discriminator(d_real_data,d_real_prop)\n",
    "  true_labels = torch.ones_like(true_discriminator_out)\n",
    "  true_discriminator_loss = loss(true_discriminator_out, true_labels)\n",
    "\n",
    "\n",
    "  d_gen_input = torch.from_numpy(noise_sampler(batch_size, latent_dim))\n",
    "  d_gen_prop = prop_sampler(batch_size)\n",
    "  d_gen_prop =  torch.from_numpy(d_gen_prop)#sample between lowest and highest LC values, uniform \n",
    "  if cuda:\n",
    "        d_gen_input = d_gen_input.cuda()\n",
    "        d_gen_prop = d_gen_prop.cuda()\n",
    "  with torch.no_grad():\n",
    "        generated_data = generator(d_gen_input,d_gen_prop)\n",
    "  \n",
    "  generator_discriminator_out = discriminator(generated_data.detach(),d_gen_prop)\n",
    "  generator_discriminator_loss = loss(generator_discriminator_out, torch.zeros_like(generator_discriminator_out))\n",
    "  discriminator_loss = (true_discriminator_loss + generator_discriminator_loss) / 2\n",
    "  discriminator_loss.backward()\n",
    "  discriminator_optimizer.step()"
   ]
  },
  {
   "cell_type": "code",
   "execution_count": 9,
   "metadata": {
    "pycharm": {
     "name": "#%%\n"
    }
   },
   "outputs": [],
   "source": [
    "def g_loop():\n",
    "  generator_optimizer.zero_grad()\n",
    "  \n",
    "  d_gen_input = torch.from_numpy(noise_sampler(batch_size, latent_dim))\n",
    "  d_gen_prop = prop_sampler(batch_size)\n",
    "  d_gen_prop =  torch.from_numpy(d_gen_prop)#sample between lowest and highest LC values, uniform \n",
    "  if cuda:\n",
    "        d_gen_input = d_gen_input.cuda()\n",
    "        d_gen_prop = d_gen_prop.cuda()\n",
    "  generated_data = generator(d_gen_input,d_gen_prop)\n",
    "  generator_discriminator_out = discriminator(generated_data,d_gen_prop)\n",
    "  true_labels = torch.ones_like(generator_discriminator_out)\n",
    "  generator_loss = loss(generator_discriminator_out, true_labels)\n",
    "  generator_loss.backward()\n",
    "  generator_optimizer.step()"
   ]
  },
  {
   "cell_type": "code",
   "execution_count": 10,
   "metadata": {
    "pycharm": {
     "name": "#%%\n"
    }
   },
   "outputs": [],
   "source": [
    "def g_sample():\n",
    "    with torch.no_grad():\n",
    "        gen_input = torch.from_numpy(noise_sampler(minibatch_size, latent_dim))\n",
    "        #prop_input = np.random.uniform(max,min,(minibatch_size,prop_dim)).astype('float32')\n",
    "        prop_input = prop_sampler(minibatch_size)\n",
    "        prop_input =  torch.from_numpy(prop_input)\n",
    "        if cuda:\n",
    "            gen_input = gen_input.cuda()\n",
    "            prop_input = prop_input.cuda()\n",
    "        g_fake_data = generator(gen_input,prop_input)\n",
    "        return g_fake_data.cpu().numpy()"
   ]
  },
  {
   "cell_type": "code",
   "execution_count": 11,
   "metadata": {
    "pycharm": {
     "name": "#%%\n"
    }
   },
   "outputs": [
    {
     "data": {
      "text/plain": "  0%|          | 0/1 [00:00<?, ?it/s]",
      "application/vnd.jupyter.widget-view+json": {
       "version_major": 2,
       "version_minor": 0,
       "model_id": "e2e3a3b314554764b14e088a29e3785a"
      }
     },
     "metadata": {},
     "output_type": "display_data"
    },
    {
     "data": {
      "text/plain": "<Figure size 800x800 with 4 Axes>",
      "image/png": "[encoded data removed]"
     },
     "metadata": {},
     "output_type": "display_data"
    }
   ],
   "source": [
    "samples = []\n",
    "for it in tqdm.notebook.tqdm(range(num_iterations), total=num_iterations):\n",
    "    d_infos = []\n",
    "    for d_index in range(d_steps):\n",
    "        d_loop()\n",
    "    for g_index in range(g_steps):\n",
    "        g_loop()\n",
    "    \n",
    "    if it == 0 or (it + 1) % log_interval == 0:\n",
    "        g_fake_data = g_sample()\n",
    "        samples.append(g_fake_data)\n",
    "        plot(g_fake_data, title='[{}] Iteration {}'.format(prefix, it+1),dset = comp_dset)\n",
    "        train_epoch = it+1\n",
    "# model_path = 'saved_models'\n",
    "# model_scripted = torch.jit.script(generator.cpu())\n",
    "# model_scripted.save(os.path.join(model_path, 'GAN_generator_{}_dims.pt'.format(latent_dim)))"
   ]
  },
  {
   "cell_type": "markdown",
   "source": [
    "additional analysis"
   ],
   "metadata": {
    "collapsed": false,
    "pycharm": {
     "name": "#%% md\n"
    }
   }
  },
  {
   "cell_type": "code",
   "execution_count": 12,
   "outputs": [
    {
     "name": "stdout",
     "output_type": "stream",
     "text": [
      "model has 592 trainable weights\n"
     ]
    }
   ],
   "source": [
    "weights = sum(p.numel() for p in generator.parameters() if p.requires_grad)\n",
    "print( f'model has {weights} trainable weights' )"
   ],
   "metadata": {
    "collapsed": false,
    "pycharm": {
     "name": "#%%\n"
    }
   }
  },
  {
   "cell_type": "code",
   "execution_count": 13,
   "outputs": [
    {
     "name": "stdout",
     "output_type": "stream",
     "text": [
      "44.7 µs ± 357 ns per loop (mean ± std. dev. of 7 runs, 10,000 loops each)\n"
     ]
    }
   ],
   "source": [
    "with torch.no_grad():\n",
    "    gen_input = torch.from_numpy(noise_sampler(minibatch_size, latent_dim))\n",
    "    prop_input = prop_sampler(minibatch_size)\n",
    "    prop_input = torch.from_numpy(prop_input)\n",
    "\n",
    "%timeit g_fake_data = generator(gen_input, prop_input)"
   ],
   "metadata": {
    "collapsed": false,
    "pycharm": {
     "name": "#%%\n"
    }
   }
  },
  {
   "cell_type": "code",
   "execution_count": null,
   "outputs": [],
   "source": [],
   "metadata": {
    "collapsed": false,
    "pycharm": {
     "name": "#%%\n"
    }
   }
  }
 ],
 "metadata": {
  "kernelspec": {
   "display_name": "Python 3.10.4 ('candidate_generation': conda)",
   "language": "python",
   "name": "python3"
  },
  "language_info": {
   "codemirror_mode": {
    "name": "ipython",
    "version": 3
   },
   "file_extension": ".py",
   "mimetype": "text/x-python",
   "name": "python",
   "nbconvert_exporter": "python",
   "pygments_lexer": "ipython3",
   "version": "3.10.4"
  },
  "orig_nbformat": 4,
  "vscode": {
   "interpreter": {
    "hash": "1ed46dbf2dc3b84a6540364823b95a5ac7e2b31867fc38c2b8073c2d844b2bb6"
   }
  }
 },
 "nbformat": 4,
 "nbformat_minor": 2
}